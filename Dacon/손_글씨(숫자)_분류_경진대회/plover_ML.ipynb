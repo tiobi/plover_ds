{
 "cells": [
  {
   "cell_type": "code",
   "execution_count": 11,
   "metadata": {},
   "outputs": [],
   "source": [
    "import numpy as np\n",
    "import pandas as pd"
   ]
  },
  {
   "cell_type": "code",
   "execution_count": 12,
   "metadata": {},
   "outputs": [],
   "source": [
    "dataset_dir = \"./dataset/\"\n",
    "\n",
    "train_data = np.load(dataset_dir + \"train_dataset.npy\")\n",
    "train_label = np.load(dataset_dir + \"train_dataset_label.npy\")\n",
    "\n",
    "validation_data = np.load(dataset_dir + \"validation_dataset.npy\")\n",
    "validation_label = np.load(dataset_dir + \"validation_dataset_label.npy\")"
   ]
  },
  {
   "cell_type": "code",
   "execution_count": 13,
   "metadata": {},
   "outputs": [
    {
     "name": "stdout",
     "output_type": "stream",
     "text": [
      "6\n"
     ]
    },
    {
     "data": {
      "image/png": "[encoded data removed]",
      "text/plain": [
       "<Figure size 432x288 with 1 Axes>"
      ]
     },
     "metadata": {
      "needs_background": "light"
     },
     "output_type": "display_data"
    }
   ],
   "source": [
    "import matplotlib.pyplot as plt\n",
    "\n",
    "plt.imshow(train_data[0])\n",
    "print(train_label[0])"
   ]
  },
  {
   "cell_type": "code",
   "execution_count": 14,
   "metadata": {},
   "outputs": [],
   "source": [
    "import keras\n",
    "from keras.layers import Dense, Dropout, Conv2D, MaxPool2D, Flatten\n",
    "from keras.callbacks import EarlyStopping\n",
    "from keras.models import load_model"
   ]
  },
  {
   "cell_type": "code",
   "execution_count": 15,
   "metadata": {},
   "outputs": [],
   "source": [
    "model = keras.Sequential()\n",
    "model.add(Conv2D(16, (3,3), input_shape = (28, 28, 1), activation = 'relu'))\n",
    "model.add(MaxPool2D(2, 2))\n",
    "model.add(Dropout(.25))\n",
    "\n",
    "model.add(Flatten())\n",
    "model.add(Dense(32, activation = 'relu'))\n",
    "model.add(Dense(10, activation = 'softmax'))"
   ]
  },
  {
   "cell_type": "code",
   "execution_count": 16,
   "metadata": {},
   "outputs": [],
   "source": [
    "model.compile(\n",
    "    optimizer = 'adam',\n",
    "    loss = 'sparse_categorical_crossentropy',\n",
    "    metrics = ['accuracy']\n",
    ")"
   ]
  },
  {
   "cell_type": "code",
   "execution_count": 17,
   "metadata": {},
   "outputs": [],
   "source": [
    "early_stopping = EarlyStopping(\n",
    "    monitor = 'val_loss', patience = 10\n",
    ")"
   ]
  },
  {
   "cell_type": "code",
   "execution_count": 18,
   "metadata": {},
   "outputs": [
    {
     "name": "stdout",
     "output_type": "stream",
     "text": [
      "Epoch 1/500\n",
      "160/160 [==============================] - 3s 12ms/step - loss: 0.7706 - accuracy: 0.7695 - val_loss: 0.3082 - val_accuracy: 0.9000\n",
      "Epoch 2/500\n",
      "160/160 [==============================] - 2s 10ms/step - loss: 0.2386 - accuracy: 0.9247 - val_loss: 0.2199 - val_accuracy: 0.9290\n",
      "Epoch 3/500\n",
      "160/160 [==============================] - 1s 9ms/step - loss: 0.1668 - accuracy: 0.9475 - val_loss: 0.1619 - val_accuracy: 0.9440\n",
      "Epoch 4/500\n",
      "160/160 [==============================] - 2s 11ms/step - loss: 0.1165 - accuracy: 0.9670 - val_loss: 0.1233 - val_accuracy: 0.9630\n",
      "Epoch 5/500\n",
      "160/160 [==============================] - 2s 10ms/step - loss: 0.0894 - accuracy: 0.9730 - val_loss: 0.0953 - val_accuracy: 0.9690\n",
      "Epoch 6/500\n",
      "160/160 [==============================] - 2s 10ms/step - loss: 0.0738 - accuracy: 0.9750 - val_loss: 0.0931 - val_accuracy: 0.9650\n",
      "Epoch 7/500\n",
      "160/160 [==============================] - 2s 12ms/step - loss: 0.0625 - accuracy: 0.9840 - val_loss: 0.0830 - val_accuracy: 0.9760\n",
      "Epoch 8/500\n",
      "160/160 [==============================] - 2s 11ms/step - loss: 0.0479 - accuracy: 0.9865 - val_loss: 0.0781 - val_accuracy: 0.9750\n",
      "Epoch 9/500\n",
      "160/160 [==============================] - 2s 12ms/step - loss: 0.0421 - accuracy: 0.9883 - val_loss: 0.0703 - val_accuracy: 0.9740\n",
      "Epoch 10/500\n",
      "160/160 [==============================] - 2s 10ms/step - loss: 0.0375 - accuracy: 0.9898 - val_loss: 0.0737 - val_accuracy: 0.9730\n",
      "Epoch 11/500\n",
      "160/160 [==============================] - 1s 9ms/step - loss: 0.0337 - accuracy: 0.9908 - val_loss: 0.0598 - val_accuracy: 0.9810\n",
      "Epoch 12/500\n",
      "160/160 [==============================] - 1s 9ms/step - loss: 0.0237 - accuracy: 0.9933 - val_loss: 0.0818 - val_accuracy: 0.9710\n",
      "Epoch 13/500\n",
      "160/160 [==============================] - 1s 9ms/step - loss: 0.0255 - accuracy: 0.9930 - val_loss: 0.0604 - val_accuracy: 0.9810\n",
      "Epoch 14/500\n",
      "160/160 [==============================] - 1s 9ms/step - loss: 0.0222 - accuracy: 0.9937 - val_loss: 0.0600 - val_accuracy: 0.9770\n",
      "Epoch 15/500\n",
      "160/160 [==============================] - 1s 9ms/step - loss: 0.0230 - accuracy: 0.9935 - val_loss: 0.0569 - val_accuracy: 0.9810\n",
      "Epoch 16/500\n",
      "160/160 [==============================] - 1s 9ms/step - loss: 0.0182 - accuracy: 0.9945 - val_loss: 0.0590 - val_accuracy: 0.9820\n",
      "Epoch 17/500\n",
      "160/160 [==============================] - 1s 9ms/step - loss: 0.0160 - accuracy: 0.9955 - val_loss: 0.0762 - val_accuracy: 0.9740\n",
      "Epoch 18/500\n",
      "160/160 [==============================] - 1s 9ms/step - loss: 0.0187 - accuracy: 0.9937 - val_loss: 0.0586 - val_accuracy: 0.9800\n",
      "Epoch 19/500\n",
      "160/160 [==============================] - 1s 9ms/step - loss: 0.0150 - accuracy: 0.9942 - val_loss: 0.0689 - val_accuracy: 0.9780\n",
      "Epoch 20/500\n",
      "160/160 [==============================] - 1s 9ms/step - loss: 0.0133 - accuracy: 0.9967 - val_loss: 0.0484 - val_accuracy: 0.9840\n",
      "Epoch 21/500\n",
      "160/160 [==============================] - 2s 15ms/step - loss: 0.0138 - accuracy: 0.9960 - val_loss: 0.0657 - val_accuracy: 0.9780\n",
      "Epoch 22/500\n",
      "160/160 [==============================] - 3s 17ms/step - loss: 0.0180 - accuracy: 0.9945 - val_loss: 0.0661 - val_accuracy: 0.9820\n",
      "Epoch 23/500\n",
      "160/160 [==============================] - 3s 17ms/step - loss: 0.0099 - accuracy: 0.9973 - val_loss: 0.0587 - val_accuracy: 0.9810\n",
      "Epoch 24/500\n",
      "160/160 [==============================] - 2s 15ms/step - loss: 0.0077 - accuracy: 0.9987 - val_loss: 0.0828 - val_accuracy: 0.9750\n",
      "Epoch 25/500\n",
      "160/160 [==============================] - 3s 18ms/step - loss: 0.0124 - accuracy: 0.9965 - val_loss: 0.0711 - val_accuracy: 0.9810\n",
      "Epoch 26/500\n",
      "160/160 [==============================] - 3s 18ms/step - loss: 0.0053 - accuracy: 0.9995 - val_loss: 0.0664 - val_accuracy: 0.9760\n",
      "Epoch 27/500\n",
      "160/160 [==============================] - 2s 14ms/step - loss: 0.0089 - accuracy: 0.9980 - val_loss: 0.0702 - val_accuracy: 0.9800\n",
      "Epoch 28/500\n",
      "160/160 [==============================] - 2s 15ms/step - loss: 0.0059 - accuracy: 0.9985 - val_loss: 0.0579 - val_accuracy: 0.9840\n",
      "Epoch 29/500\n",
      "160/160 [==============================] - 2s 14ms/step - loss: 0.0065 - accuracy: 0.9987 - val_loss: 0.0579 - val_accuracy: 0.9840\n",
      "Epoch 30/500\n",
      "160/160 [==============================] - 2s 14ms/step - loss: 0.0095 - accuracy: 0.9975 - val_loss: 0.0602 - val_accuracy: 0.9790\n"
     ]
    }
   ],
   "source": [
    "model_hist = model.fit(\n",
    "    train_data, train_label,\n",
    "    batch_size = 25,\n",
    "    epochs = 500,\n",
    "    callbacks = early_stopping,\n",
    "    validation_data = (validation_data, validation_label)\n",
    ")"
   ]
  },
  {
   "cell_type": "code",
   "execution_count": 19,
   "metadata": {},
   "outputs": [],
   "source": [
    "from datetime import datetime\n",
    "\n",
    "time_now = datetime.now()"
   ]
  },
  {
   "cell_type": "code",
   "execution_count": 20,
   "metadata": {},
   "outputs": [],
   "source": [
    "model_name = time_now.strftime(\"model_%Y_%m_%d_%H_%M_%S.h5\")\n",
    "model.save(dataset_dir + model_name)"
   ]
  }
 ],
 "metadata": {
  "interpreter": {
   "hash": "260423a3fdff93e58470bf52e96f8ddf9a67eff9e7b8bb02847f6664fd6a5d1d"
  },
  "kernelspec": {
   "display_name": "Python 3.7.11 64-bit ('dsenv': conda)",
   "language": "python",
   "name": "python3"
  },
  "language_info": {
   "codemirror_mode": {
    "name": "ipython",
    "version": 3
   },
   "file_extension": ".py",
   "mimetype": "text/x-python",
   "name": "python",
   "nbconvert_exporter": "python",
   "pygments_lexer": "ipython3",
   "version": "3.7.11"
  },
  "orig_nbformat": 4
 },
 "nbformat": 4,
 "nbformat_minor": 2
}
