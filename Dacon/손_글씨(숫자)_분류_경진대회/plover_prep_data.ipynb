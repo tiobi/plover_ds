{
 "cells": [
  {
   "cell_type": "markdown",
   "metadata": {},
   "source": [
    "# 1. 데이터 준비 및 Array 저장\n",
    "데이터 다운로드 [링크](https://dacon.io/competitions/official/235838/data)\n",
    "\n",
    "Keras로 기계학습을 하기 이전에 데이터를 불러오고 입력 형식에 맞도록 변환하는 과정을 거쳐야 합니다.\n",
    "\n",
    "이 과정은 환경에 따라 시간이 오래 소요되지만, 변환된 데이터를 저장하는 것으로 시간을 단축시킬 수 있습니다."
   ]
  },
  {
   "cell_type": "markdown",
   "metadata": {},
   "source": [
    "### 1.1 데이터 로드 및 변환\n",
    "\n",
    "데이터를 불러오고 기계학습에 알맞는 데이터 형태로 변환해줍니다.\n",
    "\n",
    "위 링크에서 데이터를 다운로드 받아 한 디렉터리에 저장해주세요.\n",
    "\n",
    "여기에서는 디렉터리 이름을 **dataset** 으로 했습니다."
   ]
  },
  {
   "cell_type": "code",
   "execution_count": null,
   "metadata": {},
   "outputs": [],
   "source": [
    "import numpy as np      # version: 1.19.5\n",
    "import pandas as pd     # version: 1.3.4\n",
    "from PIL import Image   # version: 8.4"
   ]
  },
  {
   "cell_type": "code",
   "execution_count": null,
   "metadata": {},
   "outputs": [],
   "source": [
    "# 데이터세트 디렉터리 지정\n",
    "train_dataset_dir = \"dataset/train/\"\n",
    "test_dataset_dir = \"dataset/test/\"\n",
    "\n",
    "# csv 파일 로드\n",
    "train_dataset_csv = pd.read_csv(train_dataset_dir + \"train_data.csv\")\n",
    "test_dataset_csv = pd.read_csv(test_dataset_dir + \"test_data.csv\")"
   ]
  },
  {
   "cell_type": "code",
   "execution_count": null,
   "metadata": {},
   "outputs": [],
   "source": [
    "# 학습 데이터세트와 데이터 라벨 저장\n",
    "dataset = []\n",
    "dataset_label = []\n",
    "\n",
    "# 학습 데이터세트에서 이미지를 불러와 Array 형태로 저장합니다.\n",
    "for file in train_dataset_csv['filen_name']:\n",
    "    image_array = np.array(Image.open(train_dataset_dir + file))\n",
    "    dataset.append(image_array)\n",
    "    \n",
    "# 학습 데이터 라벨을 저장합니다.\n",
    "for label in train_dataset_csv['label']:\n",
    "    dataset_label.append(label)"
   ]
  },
  {
   "cell_type": "code",
   "execution_count": null,
   "metadata": {},
   "outputs": [],
   "source": [
    "# 학습 데이터세트를 List에서 Array 형식으로 변환합니다.\n",
    "dataset = np.array(dataset)\n",
    "dataset_label = np.array(dataset_label)\n",
    "\n",
    "# 학습 데이터세트의 크기를 변환합니다.\n",
    "dataset = dataset/255.\n",
    "dataset = dataset.reshape(-1, dataset.shape[1], dataset.shape[2], 1)"
   ]
  },
  {
   "cell_type": "code",
   "execution_count": null,
   "metadata": {},
   "outputs": [],
   "source": [
    "# 테스트 데이터세트도 동일한 과정을 거칩니다.\n",
    "test_dataset = []\n",
    "for test_file in test_dataset_csv['file_name']:\n",
    "    image_array = np.array(Image.open(test_dataset_dir + test_file))\n",
    "    test_dataset.append(image_array)\n",
    "    \n",
    "test_dataset = np.array(test_dataset)"
   ]
  },
  {
   "cell_type": "code",
   "execution_count": null,
   "metadata": {},
   "outputs": [],
   "source": [
    "# 테스트 데이터 크기 변환\n",
    "test_dataset = test_dataset/255.\n",
    "test_datset = test_dataset.reshape(-1, test_dataset.shape[1], test_dataset.shape[2], 1)"
   ]
  },
  {
   "cell_type": "markdown",
   "metadata": {},
   "source": [
    "### 1.2 학습/검증 데이터세트 구분\n",
    "\n",
    "기계학습에서 사용할 학습 데이터세트와 검증 데이터세트를 나누어줍니다.\n",
    "\n",
    "기계학습 과정에서 검증 데이터를 사용하면 과적합(Overfitting) 현상을 방지할 수 있습니다."
   ]
  },
  {
   "cell_type": "code",
   "execution_count": null,
   "metadata": {},
   "outputs": [],
   "source": [
    "from sklearn.model_selection import train_test_split    # version: 1.0.1\n",
    "\n",
    "# 학습 데이터, 검증 데이터, 학습 라벨, 검증 라벨 구분\n",
    "train_dataset, validation_dataset, train_dataset_label, validation_dataset_label = train_test_split(dataset, dataset_label, test_size = 0.2, stratify = dataset_label)"
   ]
  },
  {
   "cell_type": "code",
   "execution_count": null,
   "metadata": {},
   "outputs": [],
   "source": [
    "print(\"Train Dataset Shape: \", train_dataset.shape)                         # (4000, 28, 28, 1)\n",
    "print(\"Train Dataset Label Shape: \", train_dataset_label.shape)             # (4000, ) \n",
    "print(\"Validation Dataset Shape: \", validation_dataset.shape)               # (1000, 28, 28, 1)\n",
    "print(\"Validation Dataset Label Shape: \", validation_dataset_label.shape)   # (1000, )\n",
    "print(\"Test Dataset Shape: \", test_dataset.shape)                           # (5000, 28, 28, 1)"
   ]
  },
  {
   "cell_type": "markdown",
   "metadata": {},
   "source": [
    "### 1.3 Array 저장\n",
    "\n",
    "모든 데이터세트가 준비 되면, 넘파이를 이용해 Array를 저장합니다.\n",
    "\n",
    "터미널이 초기화될 때마나다 이미지 변환 과정을 거치면 시간이 많이 낭비됩니다.\n",
    "\n",
    "Array를 필요할 때마다 사용할 수 있도록 변환해서 시간을 아낍시다!"
   ]
  },
  {
   "cell_type": "code",
   "execution_count": null,
   "metadata": {},
   "outputs": [],
   "source": [
    "# Array를 저장할 디렉터리\n",
    "dataset_dir = \"./dataset/\"\n",
    "\n",
    "# 모든 데이터세트 저장\n",
    "np.save(dataset_dir + \"train_dataset.npy\", train_dataset)\n",
    "np.save(dataset_dir + \"train_dataset_label.npy\", train_dataset_label)\n",
    "\n",
    "np.save(dataset_dir + \"validation_dataset.npy\", validation_dataset)\n",
    "np.save(dataset_dir + \"validation_dataset_label.npy\", validation_dataset_label)\n",
    "\n",
    "np.save(dataset_dir + \"test_dataset.npy\", test_dataset)"
   ]
  },
  {
   "cell_type": "markdown",
   "metadata": {},
   "source": [
    "### 1.4 Array 불러오기 및 테스트\n",
    "\n",
    "Array가 잘 저장이 되었는지 불러와서 테스트 해봅니다."
   ]
  },
  {
   "cell_type": "code",
   "execution_count": null,
   "metadata": {},
   "outputs": [],
   "source": [
    "# Array 불러오기\n",
    "dataset_loadtest = np.load(dataset_dir + \"train_dataset.npy\")"
   ]
  },
  {
   "cell_type": "code",
   "execution_count": null,
   "metadata": {},
   "outputs": [],
   "source": [
    "# Array가 잘 불러왔는지 이미지로 확인합니다.\n",
    "import matplotlib.pyplot as plt     # version: 3.4.3"
   ]
  },
  {
   "cell_type": "code",
   "execution_count": null,
   "metadata": {},
   "outputs": [
    {
     "data": {
      "text/plain": [
       "<matplotlib.image.AxesImage at 0x2430da76f08>"
      ]
     },
     "execution_count": 13,
     "metadata": {},
     "output_type": "execute_result"
    },
    {
     "data": {
      "image/png": "[encoded data removed]",
      "text/plain": [
       "<Figure size 432x288 with 1 Axes>"
      ]
     },
     "metadata": {
      "needs_background": "light"
     },
     "output_type": "display_data"
    }
   ],
   "source": [
    "# 첫 번째 이미지를 불러와봅니다.\n",
    "plt.imshow(dataset_loadtest[0])"
   ]
  },
  {
   "cell_type": "markdown",
   "metadata": {},
   "source": [
    "데이터가 잘 저장되는 것을 확인할 수 있습니다!"
   ]
  }
 ],
 "metadata": {
  "interpreter": {
   "hash": "260423a3fdff93e58470bf52e96f8ddf9a67eff9e7b8bb02847f6664fd6a5d1d"
  },
  "kernelspec": {
   "display_name": "Python 3.7.11 64-bit ('dsenv': conda)",
   "language": "python",
   "name": "python3"
  },
  "language_info": {
   "codemirror_mode": {
    "name": "ipython",
    "version": 3
   },
   "file_extension": ".py",
   "mimetype": "text/x-python",
   "name": "python",
   "nbconvert_exporter": "python",
   "pygments_lexer": "ipython3",
   "version": "3.7.11"
  },
  "orig_nbformat": 4
 },
 "nbformat": 4,
 "nbformat_minor": 2
}
