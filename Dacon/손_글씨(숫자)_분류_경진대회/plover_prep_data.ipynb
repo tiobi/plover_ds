{
 "cells": [
  {
   "cell_type": "code",
   "execution_count": 1,
   "metadata": {},
   "outputs": [],
   "source": [
    "import numpy as np\n",
    "import pandas as pd\n",
    "from PIL import Image"
   ]
  },
  {
   "cell_type": "code",
   "execution_count": 2,
   "metadata": {},
   "outputs": [],
   "source": [
    "train_dataset_dir = \"dataset/train/\"\n",
    "test_dataset_dir = \"dataset/test/test/\"\n",
    "\n",
    "train_dataset_csv = pd.read_csv(train_dataset_dir + \"train_data.csv\")\n",
    "test_dataset_csv = pd.read_csv(test_dataset_dir + \"test_data.csv\")"
   ]
  },
  {
   "cell_type": "code",
   "execution_count": 3,
   "metadata": {},
   "outputs": [],
   "source": [
    "dataset = []\n",
    "dataset_label = []\n",
    "\n",
    "for file in train_dataset_csv['filen_name']:\n",
    "    image_array = np.array(Image.open(train_dataset_dir + file))\n",
    "    dataset.append(image_array)\n",
    "    \n",
    "for label in train_dataset_csv['label']:\n",
    "    dataset_label.append(label)"
   ]
  },
  {
   "cell_type": "code",
   "execution_count": 4,
   "metadata": {},
   "outputs": [],
   "source": [
    "dataset = np.array(dataset)\n",
    "dataset_label = np.array(dataset_label)"
   ]
  },
  {
   "cell_type": "code",
   "execution_count": 5,
   "metadata": {},
   "outputs": [],
   "source": [
    "dataset = dataset/255.\n",
    "dataset = dataset.reshape(-1, dataset.shape[1], dataset.shape[2], 1)"
   ]
  },
  {
   "cell_type": "code",
   "execution_count": 6,
   "metadata": {},
   "outputs": [],
   "source": [
    "test_dataset = []\n",
    "for test_file in test_dataset_csv['file_name']:\n",
    "    image_array = np.array(Image.open(test_dataset_dir + test_file))\n",
    "    test_dataset.append(image_array)\n",
    "    \n",
    "test_dataset = np.array(test_dataset)"
   ]
  },
  {
   "cell_type": "code",
   "execution_count": 7,
   "metadata": {},
   "outputs": [],
   "source": [
    "test_dataset = test_dataset/255.\n",
    "test_datset = test_dataset.reshape(-1, test_dataset.shape[1], test_dataset.shape[2], 1)"
   ]
  },
  {
   "cell_type": "code",
   "execution_count": 9,
   "metadata": {},
   "outputs": [],
   "source": [
    "from sklearn.model_selection import train_test_split\n",
    "\n",
    "train_dataset, validation_dataset, train_dataset_label, validation_dataset_label = train_test_split(dataset, dataset_label, test_size = 0.2, stratify = dataset_label)"
   ]
  },
  {
   "cell_type": "code",
   "execution_count": 10,
   "metadata": {},
   "outputs": [],
   "source": [
    "dataset_dir = \"./dataset/\"\n",
    "\n",
    "np.save(dataset_dir + \"train_dataset.npy\", train_dataset)\n",
    "np.save(dataset_dir + \"train_dataset_label.npy\", train_dataset_label)\n",
    "\n",
    "np.save(dataset_dir + \"validation_dataset.npy\", validation_dataset)\n",
    "np.save(dataset_dir + \"validation_dataset_label.npy\", validation_dataset_label)\n",
    "\n",
    "np.save(dataset_dir + \"test_dataset.npy\", test_dataset)"
   ]
  },
  {
   "cell_type": "code",
   "execution_count": 11,
   "metadata": {},
   "outputs": [],
   "source": [
    "dataset_loadtest = np.load(dataset_dir + \"train_dataset.npy\")"
   ]
  },
  {
   "cell_type": "code",
   "execution_count": 12,
   "metadata": {},
   "outputs": [],
   "source": [
    "import matplotlib.pyplot as plt"
   ]
  },
  {
   "cell_type": "code",
   "execution_count": 13,
   "metadata": {},
   "outputs": [
    {
     "data": {
      "text/plain": [
       "<matplotlib.image.AxesImage at 0x2430da76f08>"
      ]
     },
     "execution_count": 13,
     "metadata": {},
     "output_type": "execute_result"
    },
    {
     "data": {
      "image/png": "[encoded data removed]",
      "text/plain": [
       "<Figure size 432x288 with 1 Axes>"
      ]
     },
     "metadata": {
      "needs_background": "light"
     },
     "output_type": "display_data"
    }
   ],
   "source": [
    "plt.imshow(dataset_loadtest[0])"
   ]
  }
 ],
 "metadata": {
  "interpreter": {
   "hash": "260423a3fdff93e58470bf52e96f8ddf9a67eff9e7b8bb02847f6664fd6a5d1d"
  },
  "kernelspec": {
   "display_name": "Python 3.7.11 64-bit ('dsenv': conda)",
   "language": "python",
   "name": "python3"
  },
  "language_info": {
   "codemirror_mode": {
    "name": "ipython",
    "version": 3
   },
   "file_extension": ".py",
   "mimetype": "text/x-python",
   "name": "python",
   "nbconvert_exporter": "python",
   "pygments_lexer": "ipython3",
   "version": "3.7.11"
  },
  "orig_nbformat": 4
 },
 "nbformat": 4,
 "nbformat_minor": 2
}
